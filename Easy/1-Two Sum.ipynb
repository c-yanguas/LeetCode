{
 "cells": [
  {
   "attachments": {},
   "cell_type": "markdown",
   "metadata": {},
   "source": [
    "[link to leetcode problem](https://leetcode.com/problems/two-sum/)"
   ]
  },
  {
   "cell_type": "code",
   "execution_count": 6,
   "metadata": {},
   "outputs": [
    {
     "data": {
      "text/plain": [
       "[0, 1]"
      ]
     },
     "execution_count": 6,
     "metadata": {},
     "output_type": "execute_result"
    }
   ],
   "source": [
    "# Brute force solution, here we iterate 0 with rest, then 1 with rest and so on\n",
    "class Solution:\n",
    "    def twoSum(self, nums: list[int], target: int) -> list[int]:\n",
    "        num_numbers = len(nums)\n",
    "        for idx_first_num in range(num_numbers):\n",
    "            for idx_second_num in range(idx_first_num + 1, num_numbers):\n",
    "                if nums[idx_first_num] + nums[idx_second_num] == target:\n",
    "                    return [idx_first_num, idx_second_num]\n",
    "        return []\n",
    "\n",
    "# In order to avoid the second loop, we save the already checked numbers, and then check if witht he next number the complement is already checked\n",
    "class Solution:\n",
    "    def twoSum(self, nums: list[int], target: int) -> list[int]:\n",
    "        # idx_nums is a dict with form NUM: IDX\n",
    "        idx_nums = {}\n",
    "        for current_idx in range(len(nums)):\n",
    "            complement = target - nums[current_idx]\n",
    "            if complement in idx_nums:\n",
    "                return[idx_nums[complement], current_idx]\n",
    "            idx_nums[nums[current_idx]] = current_idx\n",
    "        return []\n",
    "    \n",
    "nums = [2,7,11,15]\n",
    "target = 9\n",
    "\n",
    "solution = Solution()  # Crear una instancia de la clase Solution\n",
    "solution.twoSum(nums, target)  # Llamar al método en la instancia\n"
   ]
  }
 ],
 "metadata": {
  "kernelspec": {
   "display_name": "Python 3",
   "language": "python",
   "name": "python3"
  },
  "language_info": {
   "codemirror_mode": {
    "name": "ipython",
    "version": 3
   },
   "file_extension": ".py",
   "mimetype": "text/x-python",
   "name": "python",
   "nbconvert_exporter": "python",
   "pygments_lexer": "ipython3",
   "version": "3.11.3"
  },
  "orig_nbformat": 4
 },
 "nbformat": 4,
 "nbformat_minor": 2
}
