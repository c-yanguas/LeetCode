{
 "cells": [
  {
   "cell_type": "code",
   "execution_count": 9,
   "metadata": {},
   "outputs": [
    {
     "data": {
      "text/plain": [
       "3"
      ]
     },
     "execution_count": 9,
     "metadata": {},
     "output_type": "execute_result"
    }
   ],
   "source": [
    "class Solution:\n",
    "        \n",
    "    def kthFactor(self, n: int, k: int) -> int:\n",
    "        num_factor = 0\n",
    "        for num in range (1, n + 1):\n",
    "            if n % num == 0:\n",
    "                num_factor = num_factor + 1\n",
    "                if num_factor == k:\n",
    "                    return num\n",
    "        return - 1\n",
    "\n",
    "\n",
    "n = 12\n",
    "k = 3\n",
    "\n",
    "solution = Solution()\n",
    "solution.kthFactor(n, k)\n"
   ]
  }
 ],
 "metadata": {
  "kernelspec": {
   "display_name": "Python 3",
   "language": "python",
   "name": "python3"
  },
  "language_info": {
   "codemirror_mode": {
    "name": "ipython",
    "version": 3
   },
   "file_extension": ".py",
   "mimetype": "text/x-python",
   "name": "python",
   "nbconvert_exporter": "python",
   "pygments_lexer": "ipython3",
   "version": "3.11.3"
  },
  "orig_nbformat": 4
 },
 "nbformat": 4,
 "nbformat_minor": 2
}
